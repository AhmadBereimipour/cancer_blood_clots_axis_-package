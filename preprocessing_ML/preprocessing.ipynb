{
 "cells": [
  {
   "cell_type": "code",
   "execution_count": null,
   "metadata": {},
   "outputs": [],
   "source": [
    "import pandas as pd\n",
    "import numpy as np\n",
    "from sklearn.preprocessing import StandardScaler\n",
    "from sklearn.impute import SimpleImputer\n",
    "from sklearn.feature_selection import VarianceThreshold\n",
    "from sklearn.model_selection import train_test_split\n",
    "\n",
    "# Load the dataset\n",
    "data = pd.read_csv('your_dataset.csv')\n",
    "\n",
    "# Display basic information about the dataset\n",
    "print(\"Dataset information:\")\n",
    "print(data.info())\n",
    "\n",
    "# Check for missing values\n",
    "missing_values = data.isnull().sum()\n",
    "print(\"\\nMissing values:\")\n",
    "print(missing_values)\n",
    "\n",
    "# Impute missing values\n",
    "imputer = SimpleImputer(strategy='mean')  # You can choose other strategies as well\n",
    "data_imputed = pd.DataFrame(imputer.fit_transform(data), columns=data.columns)\n",
    "\n",
    "# Check for duplicate rows\n",
    "duplicate_rows = data_imputed[data_imputed.duplicated()]\n",
    "print(\"\\nDuplicate rows:\")\n",
    "print(duplicate_rows)\n",
    "\n",
    "# Check for constant features (zero variance)\n",
    "constant_features = data_imputed.columns[data_imputed.var() == 0]\n",
    "print(\"\\nConstant features (zero variance):\")\n",
    "print(constant_features)\n",
    "\n",
    "# Drop constant features\n",
    "data_filtered = data_imputed.drop(columns=constant_features)\n",
    "\n",
    "# Split data into features and target\n",
    "X = data_filtered.drop(columns='target_column')\n",
    "y = data_filtered['target_column']\n",
    "\n",
    "# Standardize features\n",
    "scaler = StandardScaler()\n",
    "X_scaled = scaler.fit_transform(X)\n",
    "\n",
    "# Split data into train and test sets\n",
    "X_train, X_test, y_train, y_test = train_test_split(X_scaled, y, test_size=0.2, random_state=42)\n",
    "\n",
    "# Perform additional checks or preprocessing steps as needed\n",
    "\n",
    "# Now you can proceed with model training and evaluation\n"
   ]
  },
  {
   "cell_type": "markdown",
   "metadata": {},
   "source": [
    "    It loads the dataset and displays basic information such as the data types of columns and the presence of missing values.\n",
    "    It checks for missing values and imputes them using the mean strategy.\n",
    "    It checks for duplicate rows and constant features (features with zero variance) and drops them from the dataset.\n",
    "    It standardizes the features using StandardScaler.\n",
    "    It splits the dataset into training and testing sets using train_test_split."
   ]
  }
 ],
 "metadata": {
  "language_info": {
   "name": "python"
  }
 },
 "nbformat": 4,
 "nbformat_minor": 2
}
